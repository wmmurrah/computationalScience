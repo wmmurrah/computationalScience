{
 "cells": [
  {
   "cell_type": "markdown",
   "metadata": {},
   "source": [
    "# unconstrainedError"
   ]
  },
  {
   "cell_type": "markdown",
   "metadata": {},
   "source": [
    "### Unconstrained growth of a population along with exact value and relative error percent"
   ]
  },
  {
   "cell_type": "code",
   "execution_count": 1,
   "metadata": {
    "collapsed": false,
    "jupyter": {
     "outputs_hidden": false
    }
   },
   "outputs": [],
   "source": [
    "#This code performs the necessary steps to prepare to plot.\n",
    "###from pylab import *     #Import plotting module matplotlib as well as other modules\n",
    "                        #into the global namespace.\n",
    "\n",
    "#Set the default plot to be inline rather than a new window.\n",
    "###%matplotlib inline\n",
    "try:\n",
    "    # This will work in Python 2.7\n",
    "    import Tkinter\n",
    "except ImportError:\n",
    "    # This will work in Python 3.5\n",
    "    import tkinter as Tkinter\n",
    "\n",
    "from pylab import *     #Import plotting module matplotlib as well as other modules\n",
    "                        #into the global namespace.\n",
    "\n",
    "#Set the default plot to be inline rather than a new window.\n",
    "%matplotlib inline\n",
    "\n",
    "import inspect  #This allows us to print the source code in this notebook.\n",
    "\n",
    "#import matplotlib\n",
    "#matplotlib.use('TkAgg')\n",
    "#import matplotlib.pyplot as plt\n",
    "\n",
    "###import inspect  #This allows us to print the source code in this notebook.\n",
    "from unconstrainedError import *  #Import the custom functions from this project.\n",
    "\n",
    "# Create main window.\n",
    "#root = Tkinter.Tk()\n",
    "\n",
    "goldenratio=1/2*(1+sqrt(5))        #The next few lines are used for the size of plots\n",
    "fsx=7                              #Width (in inches) for the figures.\n",
    "fsy=fsx/goldenratio                #Height (in inches) for the figures.\n",
    "\n",
    "# Activate the window.\n",
    "###root.mainloop()"
   ]
  },
  {
   "cell_type": "code",
   "execution_count": 2,
   "metadata": {
    "collapsed": false,
    "jupyter": {
     "outputs_hidden": false
    }
   },
   "outputs": [
    {
     "name": "stdout",
     "output_type": "stream",
     "text": [
      "         t   Population   Actual Population  Relative Error Percent\n",
      "      0.00\t      100.00\t      100.00\t        0.00\n",
      "      1.00\t      110.00\t      110.52\t        0.47\n",
      "      2.00\t      121.00\t      122.14\t        0.93\n",
      "      3.00\t      133.10\t      134.99\t        1.40\n",
      "      4.00\t      146.41\t      149.18\t        1.86\n",
      "      5.00\t      161.05\t      164.87\t        2.32\n",
      "      6.00\t      177.16\t      182.21\t        2.77\n",
      "      7.00\t      194.87\t      201.38\t        3.23\n",
      "      8.00\t      214.36\t      222.55\t        3.68\n",
      "      9.00\t      235.79\t      245.96\t        4.13\n",
      "     10.00\t      259.37\t      271.83\t        4.58\n",
      "     11.00\t      285.31\t      300.42\t        5.03\n",
      "     12.00\t      313.84\t      332.01\t        5.47\n",
      "     13.00\t      345.23\t      366.93\t        5.91\n",
      "     14.00\t      379.75\t      405.52\t        6.35\n",
      "     15.00\t      417.72\t      448.17\t        6.79\n",
      "     16.00\t      459.50\t      495.30\t        7.23\n",
      "     17.00\t      505.45\t      547.39\t        7.66\n",
      "     18.00\t      555.99\t      604.96\t        8.10\n",
      "     19.00\t      611.59\t      668.59\t        8.53\n",
      "     20.00\t      672.75\t      738.91\t        8.95\n",
      "     21.00\t      740.02\t      816.62\t        9.38\n",
      "     22.00\t      814.03\t      902.50\t        9.80\n",
      "     23.00\t      895.43\t      997.42\t       10.23\n",
      "     24.00\t      984.97\t     1102.32\t       10.65\n",
      "     25.00\t     1083.47\t     1218.25\t       11.06\n",
      "     26.00\t     1191.82\t     1346.37\t       11.48\n",
      "     27.00\t     1311.00\t     1487.97\t       11.89\n",
      "     28.00\t     1442.10\t     1644.46\t       12.31\n",
      "     29.00\t     1586.31\t     1817.41\t       12.72\n",
      "     30.00\t     1744.94\t     2008.55\t       13.12\n",
      "     31.00\t     1919.43\t     2219.80\t       13.53\n",
      "     32.00\t     2111.38\t     2453.25\t       13.94\n",
      "     33.00\t     2322.52\t     2711.26\t       14.34\n",
      "     34.00\t     2554.77\t     2996.41\t       14.74\n",
      "     35.00\t     2810.24\t     3311.55\t       15.14\n",
      "     36.00\t     3091.27\t     3659.82\t       15.54\n",
      "     37.00\t     3400.39\t     4044.73\t       15.93\n",
      "     38.00\t     3740.43\t     4470.12\t       16.32\n",
      "     39.00\t     4114.48\t     4940.24\t       16.72\n",
      "     40.00\t     4525.93\t     5459.82\t       17.10\n",
      "     41.00\t     4978.52\t     6034.03\t       17.49\n",
      "     42.00\t     5476.37\t     6668.63\t       17.88\n",
      "     43.00\t     6024.01\t     7369.98\t       18.26\n",
      "     44.00\t     6626.41\t     8145.09\t       18.65\n",
      "     45.00\t     7289.05\t     9001.71\t       19.03\n",
      "     46.00\t     8017.95\t     9948.43\t       19.40\n",
      "     47.00\t     8819.75\t    10994.72\t       19.78\n",
      "     48.00\t     9701.72\t    12151.04\t       20.16\n",
      "     49.00\t    10671.90\t    13428.98\t       20.53\n",
      "     50.00\t    11739.09\t    14841.32\t       20.90\n",
      "     51.00\t    12912.99\t    16402.19\t       21.27\n",
      "     52.00\t    14204.29\t    18127.22\t       21.64\n",
      "     53.00\t    15624.72\t    20033.68\t       22.01\n",
      "     54.00\t    17187.19\t    22140.64\t       22.37\n",
      "     55.00\t    18905.91\t    24469.19\t       22.74\n",
      "     56.00\t    20796.51\t    27042.64\t       23.10\n",
      "     57.00\t    22876.16\t    29886.74\t       23.46\n",
      "     58.00\t    25163.77\t    33029.96\t       23.82\n",
      "     59.00\t    27680.15\t    36503.75\t       24.17\n",
      "     60.00\t    30448.16\t    40342.88\t       24.53\n",
      "     61.00\t    33492.98\t    44585.78\t       24.88\n",
      "     62.00\t    36842.28\t    49274.90\t       25.23\n",
      "     63.00\t    40526.51\t    54457.19\t       25.58\n",
      "     64.00\t    44579.16\t    60184.50\t       25.93\n",
      "     65.00\t    49037.07\t    66514.16\t       26.28\n",
      "     66.00\t    53940.78\t    73509.52\t       26.62\n",
      "     67.00\t    59334.86\t    81240.58\t       26.96\n",
      "     68.00\t    65268.34\t    89784.73\t       27.31\n",
      "     69.00\t    71795.18\t    99227.47\t       27.65\n",
      "     70.00\t    78974.70\t   109663.32\t       27.98\n",
      "     71.00\t    86872.17\t   121196.71\t       28.32\n",
      "     72.00\t    95559.38\t   133943.08\t       28.66\n",
      "     73.00\t   105115.32\t   148029.99\t       28.99\n",
      "     74.00\t   115626.85\t   163598.44\t       29.32\n",
      "     75.00\t   127189.54\t   180804.24\t       29.65\n",
      "     76.00\t   139908.49\t   199819.59\t       29.98\n",
      "     77.00\t   153899.34\t   220834.80\t       30.31\n",
      "     78.00\t   169289.27\t   244060.20\t       30.64\n",
      "     79.00\t   186218.20\t   269728.23\t       30.96\n",
      "     80.00\t   204840.02\t   298095.80\t       31.28\n",
      "     81.00\t   225324.02\t   329446.81\t       31.61\n",
      "     82.00\t   247856.43\t   364095.03\t       31.93\n",
      "     83.00\t   272642.07\t   402387.24\t       32.24\n",
      "     84.00\t   299906.28\t   444706.67\t       32.56\n",
      "     85.00\t   329896.90\t   491476.88\t       32.88\n",
      "     86.00\t   362886.59\t   543165.96\t       33.19\n",
      "     87.00\t   399175.25\t   600291.22\t       33.50\n",
      "     88.00\t   439092.78\t   663424.40\t       33.81\n",
      "     89.00\t   483002.06\t   733197.35\t       34.12\n",
      "     90.00\t   531302.26\t   810308.39\t       34.43\n",
      "     91.00\t   584432.49\t   895529.27\t       34.74\n",
      "     92.00\t   642875.74\t   989712.91\t       35.04\n",
      "     93.00\t   707163.31\t  1093801.92\t       35.35\n",
      "     94.00\t   777879.64\t  1208838.07\t       35.65\n",
      "     95.00\t   855667.60\t  1335972.68\t       35.95\n",
      "     96.00\t   941234.37\t  1476478.16\t       36.25\n",
      "     97.00\t  1035357.80\t  1631760.72\t       36.55\n",
      "     98.00\t  1138893.58\t  1803374.49\t       36.85\n",
      "     99.00\t  1252782.94\t  1993037.04\t       37.14\n",
      "    100.00\t  1378061.23\t  2202646.58\t       37.44\n"
     ]
    }
   ],
   "source": [
    "#Simulate\n",
    "#maxt, maxy, pts = unconstrainedError()\n",
    "#maxt, maxy, ptsP, ptsActual = unconstrainedError()\n",
    "maxt, maxy, timeLst, PLst, actualLst = unconstrainedError()"
   ]
  },
  {
   "cell_type": "code",
   "execution_count": 6,
   "metadata": {
    "collapsed": false,
    "jupyter": {
     "outputs_hidden": false
    }
   },
   "outputs": [
    {
     "data": {
      "image/png": "[encoded data removed]",
      "text/plain": [
       "<matplotlib.figure.Figure at 0x11ff26668>"
      ]
     },
     "metadata": {},
     "output_type": "display_data"
    }
   ],
   "source": [
    "#Graph\n",
    "figure(figsize=(fsx, fsy))\n",
    "#plot(timeLst, PLst, 'b-', timeLst, actualLst, 'r-')\n",
    "plot(timeLst, PLst, 'b-', label='Simulated Population')\n",
    "plot(timeLst, actualLst, 'r-', label='Actual Population')\n",
    "legend(loc='upper center')\n",
    "xlabel('Time')\n",
    "ylabel('population')\n",
    "title('Comparison of Simulated and Actual')\n",
    "show()"
   ]
  },
  {
   "cell_type": "code",
   "execution_count": null,
   "metadata": {
    "collapsed": true,
    "jupyter": {
     "outputs_hidden": true
    }
   },
   "outputs": [],
   "source": []
  }
 ],
 "metadata": {
  "kernelspec": {
   "display_name": "Python 3",
   "language": "python",
   "name": "python3"
  },
  "language_info": {
   "codemirror_mode": {
    "name": "ipython",
    "version": 3
   },
   "file_extension": ".py",
   "mimetype": "text/x-python",
   "name": "python",
   "nbconvert_exporter": "python",
   "pygments_lexer": "ipython3",
   "version": "3.8.5"
  }
 },
 "nbformat": 4,
 "nbformat_minor": 4
}
