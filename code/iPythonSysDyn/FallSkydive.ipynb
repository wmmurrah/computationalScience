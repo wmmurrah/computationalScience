{
 "cells": [
  {
   "cell_type": "markdown",
   "metadata": {},
   "source": [
    "# FallSkydive"
   ]
  },
  {
   "cell_type": "markdown",
   "metadata": {},
   "source": [
    "### Model of sky diving with air friction"
   ]
  },
  {
   "cell_type": "code",
   "execution_count": 15,
   "metadata": {
    "collapsed": true
   },
   "outputs": [],
   "source": [
    "#This code performs the necessary steps to prepare to plot.\n",
    "from pylab import *     #Import plotting module matplotlib as well as other modules\n",
    "                        #into the global namespace.\n",
    "\n",
    "#Set the default plot to be inline rather than a new window.\n",
    "%matplotlib inline\n",
    "\n",
    "import inspect  #This allows us to print the source code in this notebook.\n",
    "from FallSkydive import *  #Import the custom functions from this project.\n",
    "\n",
    "goldenratio=1/2*(1+sqrt(5))        #The next few lines are used for the size of plots\n",
    "fsx=7                              #Width (in inches) for the figures.\n",
    "fsy=fsx/goldenratio                #Height (in inches) for the figures."
   ]
  },
  {
   "cell_type": "code",
   "execution_count": 16,
   "metadata": {},
   "outputs": [
    {
     "ename": "TypeError",
     "evalue": "'NoneType' object is not iterable",
     "output_type": "error",
     "traceback": [
      "\u001b[0;31m---------------------------------------------------------------------------\u001b[0m",
      "\u001b[0;31mTypeError\u001b[0m                                 Traceback (most recent call last)",
      "\u001b[0;32m<ipython-input-16-2f7adb68df37>\u001b[0m in \u001b[0;36m<module>\u001b[0;34m()\u001b[0m\n\u001b[1;32m      1\u001b[0m \u001b[0;31m#Simulate\u001b[0m\u001b[0;34m\u001b[0m\u001b[0;34m\u001b[0m\u001b[0m\n\u001b[0;32m----> 2\u001b[0;31m \u001b[0mtimeLst\u001b[0m\u001b[0;34m,\u001b[0m \u001b[0mpositionLst\u001b[0m\u001b[0;34m,\u001b[0m \u001b[0mspeedLst\u001b[0m \u001b[0;34m=\u001b[0m \u001b[0mFallSkydive\u001b[0m\u001b[0;34m(\u001b[0m\u001b[0;34m)\u001b[0m\u001b[0;34m\u001b[0m\u001b[0m\n\u001b[0m",
      "\u001b[0;31mTypeError\u001b[0m: 'NoneType' object is not iterable"
     ]
    }
   ],
   "source": [
    "#Simulate\n",
    "timeLst, positionLst, speedLst = FallSkydive()"
   ]
  },
  {
   "cell_type": "code",
   "execution_count": null,
   "metadata": {
    "collapsed": true
   },
   "outputs": [],
   "source": [
    "#Graph\n",
    "figure(figsize=(fsx, fsy))\n",
    "plot(timeLst, positionLst, 'k-', label='Position')\n",
    "xlabel('Time')\n",
    "ylabel('Position')\n",
    "title('Position vs Time')\n",
    "show()"
   ]
  },
  {
   "cell_type": "code",
   "execution_count": null,
   "metadata": {
    "collapsed": true
   },
   "outputs": [],
   "source": [
    "#Graph\n",
    "figure(figsize=(fsx, fsy))\n",
    "plot(timeLst, speedLst, 'r-', label='Speed')\n",
    "xlabel('Time')\n",
    "ylabel('Speed')\n",
    "title('Speed vs Time')\n",
    "show()"
   ]
  },
  {
   "cell_type": "code",
   "execution_count": null,
   "metadata": {
    "collapsed": true
   },
   "outputs": [],
   "source": []
  }
 ],
 "metadata": {
  "kernelspec": {
   "display_name": "Python 3",
   "language": "python",
   "name": "python3"
  },
  "language_info": {
   "codemirror_mode": {
    "name": "ipython",
    "version": 3
   },
   "file_extension": ".py",
   "mimetype": "text/x-python",
   "name": "python",
   "nbconvert_exporter": "python",
   "pygments_lexer": "ipython3",
   "version": "3.6.1"
  }
 },
 "nbformat": 4,
 "nbformat_minor": 2
}
